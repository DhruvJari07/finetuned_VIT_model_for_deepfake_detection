{
 "cells": [
  {
   "cell_type": "code",
   "execution_count": 1,
   "id": "331918a2",
   "metadata": {},
   "outputs": [],
   "source": [
    "!pip install sagemaker --upgrade --quiet"
   ]
  },
  {
   "cell_type": "code",
   "execution_count": 2,
   "id": "8032b498",
   "metadata": {},
   "outputs": [
    {
     "name": "stdout",
     "output_type": "stream",
     "text": [
      "sagemaker.config INFO - Not applying SDK defaults from location: /etc/xdg/sagemaker/config.yaml\n",
      "sagemaker.config INFO - Not applying SDK defaults from location: /home/ec2-user/.config/sagemaker/config.yaml\n"
     ]
    }
   ],
   "source": [
    "import sagemaker, boto3, json\n",
    "from sagemaker import get_execution_role\n",
    "\n",
    "role = get_execution_role()\n",
    "region = boto3.Session().region_name\n",
    "sess = sagemaker.Session()"
   ]
  },
  {
   "cell_type": "code",
   "execution_count": 3,
   "id": "093fdff7",
   "metadata": {},
   "outputs": [],
   "source": [
    "from sagemaker.huggingface.model import HuggingFaceModel\n",
    "from sagemaker.serverless import ServerlessInferenceConfig\n",
    "from sagemaker.serializers import DataSerializer"
   ]
  },
  {
   "cell_type": "code",
   "execution_count": 4,
   "id": "4552baec",
   "metadata": {},
   "outputs": [],
   "source": [
    "# create Hugging Face Model Class\n",
    "# Hub Model configuration. <https://huggingface.co/models>\n",
    "hub = {\n",
    "    'HF_MODEL_ID':'DhruvJariwala/deepfake_vs_real_image_detection',\n",
    "    'HF_TASK':'image-classification'\n",
    "}\n",
    "\n",
    "# create Hugging Face Model Class\n",
    "huggingface_model = HuggingFaceModel(\n",
    "   env=hub,                      # configuration for loading model from Hub\n",
    "   role=role,                    # iam role with permissions to create an Endpoint\n",
    "   transformers_version=\"4.28\",  # transformers version used\n",
    "   pytorch_version=\"2.0\",        # pytorch version used\n",
    "   py_version='py310',            # python version used\n",
    ")\n"
   ]
  },
  {
   "cell_type": "code",
   "execution_count": 5,
   "id": "e08c2e08",
   "metadata": {},
   "outputs": [],
   "source": [
    "# create a serializer for the data\n",
    "image_serializer = DataSerializer(content_type='image/x-image')"
   ]
  },
  {
   "cell_type": "code",
   "execution_count": 6,
   "id": "897bc9da",
   "metadata": {},
   "outputs": [
    {
     "name": "stdout",
     "output_type": "stream",
     "text": [
      "---------!"
     ]
    }
   ],
   "source": [
    "# Specify MemorySizeInMB and MaxConcurrency in the serverless config object\n",
    "#serverless_config = ServerlessInferenceConfig(\n",
    "#    memory_size_in_mb=2048, max_concurrency=10,\n",
    "#)\n",
    "\n",
    "# deploy the endpoint endpoint\n",
    "#predictor = huggingface_model.deploy(\n",
    "#    serverless_inference_config=serverless_config\n",
    "#)\n",
    "\n",
    "predictor = huggingface_model.deploy(\n",
    "   initial_instance_count=1,\n",
    "   instance_type=\"ml.m5.xlarge\",\n",
    "    serializer=image_serializer,\n",
    ")"
   ]
  },
  {
   "cell_type": "code",
   "execution_count": 7,
   "id": "cfa45609",
   "metadata": {},
   "outputs": [
    {
     "name": "stdout",
     "output_type": "stream",
     "text": [
      "--2024-05-09 10:13:10--  https://huggingface.co/datasets/hf-internal-testing/fixtures_ade20k/raw/main/ADE_val_00000001.jpg\n",
      "Resolving huggingface.co (huggingface.co)... 18.161.125.35, 18.161.125.84, 18.161.125.127, ...\n",
      "Connecting to huggingface.co (huggingface.co)|18.161.125.35|:443... connected.\n",
      "HTTP request sent, awaiting response... 200 OK\n",
      "Length: 52650 (51K) [image/jpeg]\n",
      "Saving to: ‘ADE_val_00000001.jpg’\n",
      "\n",
      "100%[======================================>] 52,650       271KB/s   in 0.2s   \n",
      "\n",
      "2024-05-09 10:13:10 (271 KB/s) - ‘ADE_val_00000001.jpg’ saved [52650/52650]\n",
      "\n"
     ]
    }
   ],
   "source": [
    "!wget https://huggingface.co/datasets/hf-internal-testing/fixtures_ade20k/raw/main/ADE_val_00000001.jpg"
   ]
  },
  {
   "cell_type": "code",
   "execution_count": 8,
   "id": "85ec6edc",
   "metadata": {},
   "outputs": [
    {
     "name": "stdout",
     "output_type": "stream",
     "text": [
      "[{'score': 0.5058110356330872, 'label': 'Fake'}, {'score': 0.49418893456459045, 'label': 'Real'}]\n"
     ]
    }
   ],
   "source": [
    "image_path = \"ADE_val_00000001.jpg\"\n",
    "\n",
    "with open(image_path, \"rb\") as data_file:\n",
    "    image_data = data_file.read()\n",
    "    res = predictor.predict(data=image_data)\n",
    "    print(res)"
   ]
  },
  {
   "cell_type": "code",
   "execution_count": null,
   "id": "26e8a256",
   "metadata": {},
   "outputs": [],
   "source": [
    "# request\n",
    "# predictor.predict(data)"
   ]
  },
  {
   "cell_type": "code",
   "execution_count": 9,
   "id": "ab136814",
   "metadata": {},
   "outputs": [],
   "source": [
    "predictor.delete_model()\n",
    "predictor.delete_endpoint()"
   ]
  },
  {
   "cell_type": "code",
   "execution_count": null,
   "id": "cbf399bc",
   "metadata": {},
   "outputs": [],
   "source": []
  }
 ],
 "metadata": {
  "kernelspec": {
   "display_name": "conda_pytorch_p310",
   "language": "python",
   "name": "conda_pytorch_p310"
  },
  "language_info": {
   "codemirror_mode": {
    "name": "ipython",
    "version": 3
   },
   "file_extension": ".py",
   "mimetype": "text/x-python",
   "name": "python",
   "nbconvert_exporter": "python",
   "pygments_lexer": "ipython3",
   "version": "3.10.14"
  }
 },
 "nbformat": 4,
 "nbformat_minor": 5
}
